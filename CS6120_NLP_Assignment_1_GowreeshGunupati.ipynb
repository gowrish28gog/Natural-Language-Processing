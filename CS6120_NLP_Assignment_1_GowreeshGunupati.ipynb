{
 "cells": [
  {
   "cell_type": "markdown",
   "id": "bc97d6da",
   "metadata": {
    "id": "bc97d6da"
   },
   "source": [
    "## CS 6120: Natural Language Processing - Prof. Ahmad Uzair\n",
    "\n",
    "### Assignment 1: Naive Bayes\n",
    "### Total Points: 100 points\n",
    "\n",
    "You will be dealing with movie review data that includes both positive and negative reviews in this assignment. You will use Sentiment Analysis to assess if a given review is positive or negative using the provided dataset.\n",
    "\n",
    "Therefore, we will make use of Naive Bayes algorithm to perform sentiment analysis on the movie review dataset.\n",
    "\n",
    "## Importing the Libraries"
   ]
  },
  {
   "cell_type": "code",
   "execution_count": 103,
   "id": "a03450ac",
   "metadata": {
    "ExecuteTime": {
     "start_time": "2023-09-22T00:35:39.288219Z"
    },
    "id": "a03450ac",
    "is_executing": true
   },
   "outputs": [],
   "source": [
    "import numpy as np\n",
    "import math\n",
    "import pandas as pd\n",
    "import re\n",
    "import nltk\n",
    "from nltk.corpus import stopwords\n",
    "from nltk.stem import PorterStemmer\n",
    "from nltk.tokenize import word_tokenize\n",
    "import warnings\n",
    "import seaborn as sns\n",
    "import matplotlib.pyplot as plt\n",
    "warnings.filterwarnings(\"ignore\")"
   ]
  },
  {
   "cell_type": "markdown",
   "id": "fc584cc2",
   "metadata": {
    "id": "fc584cc2"
   },
   "source": [
    "## Reading the data\n",
    "\n",
    "When reading the data, ensure that the '.csv' file is in the same location where your jupyter notebook is used. This way the files are organized and easy to read using the pandas library. "
   ]
  },
  {
   "cell_type": "code",
   "execution_count": 104,
   "id": "3c9ffbf5",
   "metadata": {
    "ExecuteTime": {
     "start_time": "2023-09-22T00:35:43.458106Z"
    },
    "id": "3c9ffbf5",
    "is_executing": true
   },
   "outputs": [],
   "source": [
    "## Reading the data and removing columns that are not important. \n",
    "df = pd.read_csv(\"movie_reviews.csv\", sep = ',', encoding = 'latin-1', usecols = lambda col: col not in [\"Unnamed: 2\", \"Unnamed: 3\", \"Unnamed: 4\"])"
   ]
  },
  {
   "cell_type": "code",
   "execution_count": 105,
   "id": "f7fa8ac0",
   "metadata": {
    "ExecuteTime": {
     "start_time": "2023-09-22T00:35:43.458668Z"
    },
    "colab": {
     "base_uri": "https://localhost:8080/",
     "height": 206
    },
    "id": "f7fa8ac0",
    "is_executing": true,
    "outputId": "69edaf28-1e2e-4ec7-9530-b30a2853ab9e"
   },
   "outputs": [
    {
     "data": {
      "text/html": [
       "<div>\n",
       "<style scoped>\n",
       "    .dataframe tbody tr th:only-of-type {\n",
       "        vertical-align: middle;\n",
       "    }\n",
       "\n",
       "    .dataframe tbody tr th {\n",
       "        vertical-align: top;\n",
       "    }\n",
       "\n",
       "    .dataframe thead th {\n",
       "        text-align: right;\n",
       "    }\n",
       "</style>\n",
       "<table border=\"1\" class=\"dataframe\">\n",
       "  <thead>\n",
       "    <tr style=\"text-align: right;\">\n",
       "      <th></th>\n",
       "      <th>review</th>\n",
       "      <th>sentiment</th>\n",
       "    </tr>\n",
       "  </thead>\n",
       "  <tbody>\n",
       "    <tr>\n",
       "      <th>0</th>\n",
       "      <td>One of the other reviewers has mentioned that ...</td>\n",
       "      <td>positive</td>\n",
       "    </tr>\n",
       "    <tr>\n",
       "      <th>1</th>\n",
       "      <td>A wonderful little production. &lt;br /&gt;&lt;br /&gt;The...</td>\n",
       "      <td>positive</td>\n",
       "    </tr>\n",
       "    <tr>\n",
       "      <th>2</th>\n",
       "      <td>I thought this was a wonderful way to spend ti...</td>\n",
       "      <td>positive</td>\n",
       "    </tr>\n",
       "    <tr>\n",
       "      <th>3</th>\n",
       "      <td>Petter Mattei's \"Love in the Time of Money\" is...</td>\n",
       "      <td>positive</td>\n",
       "    </tr>\n",
       "    <tr>\n",
       "      <th>4</th>\n",
       "      <td>Probably my all-time favorite movie, a story o...</td>\n",
       "      <td>positive</td>\n",
       "    </tr>\n",
       "  </tbody>\n",
       "</table>\n",
       "</div>"
      ],
      "text/plain": [
       "                                              review sentiment\n",
       "0  One of the other reviewers has mentioned that ...  positive\n",
       "1  A wonderful little production. <br /><br />The...  positive\n",
       "2  I thought this was a wonderful way to spend ti...  positive\n",
       "3  Petter Mattei's \"Love in the Time of Money\" is...  positive\n",
       "4  Probably my all-time favorite movie, a story o...  positive"
      ]
     },
     "execution_count": 105,
     "metadata": {},
     "output_type": "execute_result"
    }
   ],
   "source": [
    "df.head()"
   ]
  },
  {
   "cell_type": "markdown",
   "id": "1749da04",
   "metadata": {
    "id": "1749da04"
   },
   "source": [
    "## Count plot of the output categories: positive or negative\n",
    "\n",
    "Feel free to take a look at the output and whether the classes are balanced or imbalanced. "
   ]
  },
  {
   "cell_type": "code",
   "execution_count": 106,
   "id": "c152e8a4",
   "metadata": {
    "colab": {
     "base_uri": "https://localhost:8080/",
     "height": 515
    },
    "id": "c152e8a4",
    "outputId": "a2ba0476-3238-4511-fcf0-780508493f48"
   },
   "outputs": [
    {
     "data": {
      "image/png": "[encoded data removed]",
      "text/plain": [
       "<Figure size 800x600 with 1 Axes>"
      ]
     },
     "metadata": {},
     "output_type": "display_data"
    }
   ],
   "source": [
    "plt.figure(figsize = (8,6))\n",
    "sns.countplot(data =df , x ='sentiment')\n",
    "plt.title(\"Positive Vs. Negative reviews count\", fontsize = 15)\n",
    "plt.show()\n",
    "\n"
   ]
  },
  {
   "cell_type": "markdown",
   "id": "9b8549f2",
   "metadata": {
    "id": "9b8549f2"
   },
   "source": [
    "## Upsampling the minority class: (5 points)\n",
    "\n",
    "It is known that Naive bayes is not robust to class imbalance. It could be seen above that the data is little imbalanced. Therefore, class balancing can be done before giving it to the Naive Bayes model for prediction. \n",
    "\n",
    "Feel free to use 'resample' library from sklearn. "
   ]
  },
  {
   "cell_type": "code",
   "execution_count": 107,
   "id": "yHJTAqrW7XMN",
   "metadata": {
    "id": "yHJTAqrW7XMN"
   },
   "outputs": [],
   "source": [
    "## hint: use resample from sklearn.utils\n",
    "from sklearn.utils import resample\n",
    "\n",
    "df_majority = df[df['sentiment']=='positive']\n",
    "df_minority = df[df['sentiment']=='negative']\n",
    "\n",
    "negative_upsample = resample(df_minority, replace = True, \n",
    "                        n_samples = df_majority.shape[0],\n",
    "                        random_state = 101)\n",
    "\n",
    "df_upsampled = pd.concat([df_majority, negative_upsample])  # concat two data frames i,e majority class data set and upsampled minority class data set\n",
    "df_upsampled = df_upsampled.sample(frac = 1)"
   ]
  },
  {
   "cell_type": "code",
   "execution_count": 108,
   "id": "6a9329bb",
   "metadata": {
    "id": "6a9329bb"
   },
   "outputs": [
    {
     "data": {
      "text/plain": [
       "(12474, 2)"
      ]
     },
     "execution_count": 108,
     "metadata": {},
     "output_type": "execute_result"
    }
   ],
   "source": [
    "## Just to ensure that upsampling was done successfully, take a look at the shape of the data in \n",
    "## this cell. \n",
    "\n",
    "# print the shape of data set with the help of shape function having \"negative\" as class label\n",
    "\n",
    "df_upsampled[df_upsampled['sentiment']=='negative'].shape"
   ]
  },
  {
   "cell_type": "markdown",
   "id": "6f8bf6e7",
   "metadata": {
    "id": "6f8bf6e7"
   },
   "source": [
    "### Expected Output : \n",
    "(12474, 2)"
   ]
  },
  {
   "cell_type": "code",
   "execution_count": 109,
   "id": "bdea8155",
   "metadata": {
    "colab": {
     "base_uri": "https://localhost:8080/"
    },
    "id": "bdea8155",
    "outputId": "c665c4b9-826e-4f4e-e30e-06e0935a0622"
   },
   "outputs": [
    {
     "data": {
      "text/plain": [
       "(12474, 2)"
      ]
     },
     "execution_count": 109,
     "metadata": {},
     "output_type": "execute_result"
    }
   ],
   "source": [
    "## Ensure that the same number of data points are present for both 'positive' and 'negative' data\n",
    "df_upsampled[df_upsampled['sentiment']=='positive'].shape\n",
    "# print the shape of data set with the help of shape function having \"positive\" as class label\n"
   ]
  },
  {
   "cell_type": "code",
   "execution_count": 110,
   "id": "54f75678",
   "metadata": {},
   "outputs": [
    {
     "data": {
      "text/html": [
       "<div>\n",
       "<style scoped>\n",
       "    .dataframe tbody tr th:only-of-type {\n",
       "        vertical-align: middle;\n",
       "    }\n",
       "\n",
       "    .dataframe tbody tr th {\n",
       "        vertical-align: top;\n",
       "    }\n",
       "\n",
       "    .dataframe thead th {\n",
       "        text-align: right;\n",
       "    }\n",
       "</style>\n",
       "<table border=\"1\" class=\"dataframe\">\n",
       "  <thead>\n",
       "    <tr style=\"text-align: right;\">\n",
       "      <th></th>\n",
       "      <th>review</th>\n",
       "      <th>sentiment</th>\n",
       "    </tr>\n",
       "  </thead>\n",
       "  <tbody>\n",
       "    <tr>\n",
       "      <th>8906</th>\n",
       "      <td>I haven't seen every single movie that Burt Re...</td>\n",
       "      <td>positive</td>\n",
       "    </tr>\n",
       "    <tr>\n",
       "      <th>11251</th>\n",
       "      <td>Not since \"8 Heads in a Duffel Bag\" and the \"H...</td>\n",
       "      <td>negative</td>\n",
       "    </tr>\n",
       "    <tr>\n",
       "      <th>13099</th>\n",
       "      <td>In \"Die Nibelungen: Siegfried\", Siegfried was ...</td>\n",
       "      <td>positive</td>\n",
       "    </tr>\n",
       "    <tr>\n",
       "      <th>22095</th>\n",
       "      <td>This movie looked fun on the cover and I hones...</td>\n",
       "      <td>negative</td>\n",
       "    </tr>\n",
       "    <tr>\n",
       "      <th>9579</th>\n",
       "      <td>I know the girl who did the figure skating for...</td>\n",
       "      <td>positive</td>\n",
       "    </tr>\n",
       "  </tbody>\n",
       "</table>\n",
       "</div>"
      ],
      "text/plain": [
       "                                                  review sentiment\n",
       "8906   I haven't seen every single movie that Burt Re...  positive\n",
       "11251  Not since \"8 Heads in a Duffel Bag\" and the \"H...  negative\n",
       "13099  In \"Die Nibelungen: Siegfried\", Siegfried was ...  positive\n",
       "22095  This movie looked fun on the cover and I hones...  negative\n",
       "9579   I know the girl who did the figure skating for...  positive"
      ]
     },
     "execution_count": 110,
     "metadata": {},
     "output_type": "execute_result"
    }
   ],
   "source": [
    "df_upsampled.head()"
   ]
  },
  {
   "cell_type": "markdown",
   "id": "626f01d5",
   "metadata": {
    "id": "626f01d5"
   },
   "source": [
    "### Expected Output : \n",
    "(12474, 2)"
   ]
  },
  {
   "cell_type": "code",
   "execution_count": 111,
   "id": "NoW5z6SzAeP8",
   "metadata": {
    "id": "NoW5z6SzAeP8"
   },
   "outputs": [],
   "source": [
    "## In this cell, we are going to be dividing the data into train and test points\n",
    "## Ensure that you store the upsampled data in a variable called 'df_upsampled' \n",
    "## so that the below operations are performed successfully\n",
    "\n",
    "\n",
    "## Considering 10000 positive and 10000 negative data points\n",
    "negative_data_points_train = df_upsampled[df_upsampled['sentiment'] == 'negative'].iloc[:10000]\n",
    "positive_data_points_train = df_upsampled[df_upsampled['sentiment'] == 'positive'].iloc[:10000]\n",
    "\n",
    "## Considering the remaining data points for test\n",
    "negative_data_points_test = df_upsampled[df_upsampled['sentiment'] == 'negative'].iloc[10000:]\n",
    "positive_data_points_test = df_upsampled[df_upsampled['sentiment'] == 'positive'].iloc[10000:]\n",
    "\n",
    "## Concatenate the training positive and negative reviews\n",
    "X_train = pd.concat([positive_data_points_train['review'],negative_data_points_train['review']])\n",
    "## Concatenating the training positive and negative outputs\n",
    "y_train = pd.concat([positive_data_points_train['sentiment'], negative_data_points_train['sentiment']])\n",
    "\n",
    "## Concatenating the test positive and negative reviews\n",
    "X_test = pd.concat([positive_data_points_test['review'], negative_data_points_test['review']])\n",
    "## Concatenating the test positive and negative outputs\n",
    "y_test = pd.concat([positive_data_points_test['sentiment'], negative_data_points_test['sentiment']])\n"
   ]
  },
  {
   "cell_type": "code",
   "execution_count": 112,
   "id": "6428047d",
   "metadata": {
    "colab": {
     "base_uri": "https://localhost:8080/"
    },
    "id": "6428047d",
    "outputId": "10d10601-0ce0-4688-c4d3-75fa386583fd"
   },
   "outputs": [
    {
     "data": {
      "text/plain": [
       "8906     positive\n",
       "13099    positive\n",
       "9579     positive\n",
       "23890    positive\n",
       "18297    positive\n",
       "           ...   \n",
       "16658    negative\n",
       "3890     negative\n",
       "7452     negative\n",
       "12854    negative\n",
       "9739     negative\n",
       "Name: sentiment, Length: 20000, dtype: object"
      ]
     },
     "execution_count": 112,
     "metadata": {},
     "output_type": "execute_result"
    }
   ],
   "source": [
    "## Take a look at the total number of classes and their count using '.value_counts()' for y_train and y_test.\n",
    "## Ensure that there are equal number of positive and negative reviews. \n",
    "y_train.value_counts()\n",
    "y_train"
   ]
  },
  {
   "cell_type": "markdown",
   "id": "7dfe6517",
   "metadata": {
    "id": "7dfe6517"
   },
   "source": [
    "### Expected Output:\n",
    "negative    10000<br>\n",
    "positive    10000<br>\n",
    "Name: sentiment, dtype: int64"
   ]
  },
  {
   "cell_type": "code",
   "execution_count": 113,
   "id": "2beae1d6",
   "metadata": {
    "colab": {
     "base_uri": "https://localhost:8080/"
    },
    "id": "2beae1d6",
    "outputId": "6896f930-6a1a-45db-b74c-d080c9aedd0c"
   },
   "outputs": [
    {
     "data": {
      "text/plain": [
       "positive    2474\n",
       "negative    2474\n",
       "Name: sentiment, dtype: int64"
      ]
     },
     "execution_count": 113,
     "metadata": {},
     "output_type": "execute_result"
    }
   ],
   "source": [
    "y_test.value_counts()"
   ]
  },
  {
   "cell_type": "markdown",
   "id": "9163f897",
   "metadata": {
    "id": "9163f897"
   },
   "source": [
    "### Expected Output : \n",
    "negative    2474<br>\n",
    "positive    2474<br>\n",
    "Name: sentiment, dtype: int64"
   ]
  },
  {
   "cell_type": "markdown",
   "id": "6501699b",
   "metadata": {
    "id": "6501699b"
   },
   "source": [
    "## Q1. Pre-process the reviews: (10 points)\n",
    "\n",
    "We know that a review contains links, punctuation, stopwords and many other words that don't give a lot of meaning for the Naive Bayes model for prediction. \n",
    "\n",
    "In the cell below, one must implement text-preprocessing and remove links, punctuations and stopwords. It is also important to lowercase the letters so that 'Admire' and 'admire' are not treated as different words. \n",
    "\n",
    "In addition to this, perform stemming operation so that similar words are reduced. To know more about stemming, feel free to take a look at this link.\n",
    "\n",
    "https://nlp.stanford.edu/IR-book/html/htmledition/stemming-and-lemmatization-1.html"
   ]
  },
  {
   "cell_type": "code",
   "execution_count": 114,
   "id": "CirLN9-ddQ1r",
   "metadata": {
    "id": "CirLN9-ddQ1r"
   },
   "outputs": [],
   "source": [
    "# TASK CELL\n",
    "\n",
    "def clean_review(review):\n",
    "    '''\n",
    "    Input:\n",
    "        review: a string containing a review.\n",
    "    Output:\n",
    "        review_cleaned: a processed review. \n",
    "\n",
    "    '''\n",
    "    review = review.lower()\n",
    "\n",
    "    # Use regex to keep only alphabetic characters\n",
    "    review = re.sub(r'[^a-z ]', '', review)\n",
    "\n",
    "    # Tokenize the review into words\n",
    "    words = word_tokenize(review)\n",
    "\n",
    "    # Remove stopwords\n",
    "    words = [word for word in words if word not in stopwords.words(\"english\")]\n",
    "\n",
    "    # Join the cleaned words back into a single string\n",
    "    review_cleaned = ' '.join(words)\n",
    "\n",
    "    return review_cleaned"
   ]
  },
  {
   "cell_type": "markdown",
   "id": "a7632fe5",
   "metadata": {
    "id": "a7632fe5"
   },
   "source": [
    "## Q2. Implement a find_occurrence function (5 points):\n",
    "\n",
    "In this function, we find the total occurrence of a word giving information such as label, word and frequency dictionary.\n",
    "\n",
    "Note that this function is used later in the code when we are going to be predicting the output using Naive Bayes. "
   ]
  },
  {
   "cell_type": "code",
   "execution_count": 115,
   "id": "eb282b81",
   "metadata": {
    "id": "eb282b81"
   },
   "outputs": [],
   "source": [
    "# TASK CELL\n",
    "def find_occurrence(frequency, word, label):\n",
    "    '''\n",
    "    Params:\n",
    "        frequency: a dictionary with the frequency of each pair (or tuple)\n",
    "        word: the word to look up\n",
    "        label: the label corresponding to the word\n",
    "    Return:\n",
    "        n: the number of times the word with its corresponding label appears.\n",
    "    '''\n",
    "    if (word,label) in frequency:\n",
    "        return frequency[(word,label)]\n",
    "    else:\n",
    "        return 0"
   ]
  },
  {
   "cell_type": "markdown",
   "id": "29a2249d",
   "metadata": {
    "id": "29a2249d"
   },
   "source": [
    "### Converting output to numerical format:\n",
    "\n",
    "We have outputs as 'positive' or 'negative'. In the cell below, we convert it to a numerical format. "
   ]
  },
  {
   "cell_type": "code",
   "execution_count": 116,
   "id": "bcdc2b2c",
   "metadata": {
    "id": "bcdc2b2c"
   },
   "outputs": [],
   "source": [
    "## With the use of mapping function, we replace\n",
    "## the label in the form of string to an integer. \n",
    "\n",
    "output_map = {'positive': 0, 'negative': 1}\n",
    "y_train = y_train.map(output_map)\n",
    "y_test = y_test.map(output_map)"
   ]
  },
  {
   "cell_type": "code",
   "execution_count": null,
   "id": "55fe47a4",
   "metadata": {},
   "outputs": [],
   "source": [
    "y_train\n"
   ]
  },
  {
   "cell_type": "code",
   "execution_count": 117,
   "id": "3dde0bbd",
   "metadata": {
    "colab": {
     "base_uri": "https://localhost:8080/"
    },
    "id": "3dde0bbd",
    "outputId": "223dfbc1-8efe-4183-b6d7-c9cb025cb285"
   },
   "outputs": [
    {
     "data": {
      "text/plain": [
       "0    10000\n",
       "1    10000\n",
       "Name: sentiment, dtype: int64"
      ]
     },
     "execution_count": 117,
     "metadata": {},
     "output_type": "execute_result"
    }
   ],
   "source": [
    "## Ensuring that there are equal number of classes on the training data. \n",
    "y_train.value_counts()"
   ]
  },
  {
   "cell_type": "code",
   "execution_count": 118,
   "id": "f2959b85",
   "metadata": {
    "colab": {
     "base_uri": "https://localhost:8080/",
     "height": 178
    },
    "id": "f2959b85",
    "outputId": "e514214b-cd57-43fc-875d-1821ddab63f8"
   },
   "outputs": [
    {
     "data": {
      "text/plain": [
       "'I haven\\'t seen every single movie that Burt Reynolds has ever made, but this one (which I\\'ve just finished watching, for the third time) may very well be his best! It suffers only from some slow stretches; Burt perhaps tried to make it more \"arty\" than it should have been. On the other hand, he managed to avoid many of the usual cliches in the presentation of the \"tough cop\" role he plays (notice, for example, the scene in which he attempts to kiss Rachel Ward for the first time, or the fear he expresses just before the final showdown with the indestructible Henry Silva). In fact, Silva and those two ninja assassins are three of the most memorable villains of cop thrillers of the 80s. The film also has some offbeat touches, a surprising amount of humor, a brutal and gripping fistfight and many well-directed shots. (***)'"
      ]
     },
     "execution_count": 118,
     "metadata": {},
     "output_type": "execute_result"
    }
   ],
   "source": [
    "## Choosing a random review and taking a look at it.\n",
    "X_train.iloc[0]"
   ]
  },
  {
   "cell_type": "markdown",
   "id": "ed5e43c9",
   "metadata": {
    "id": "ed5e43c9"
   },
   "source": [
    "From the above cell output, it could be seen that there are a lot of words that don't add a lot of meaning to the text. \n",
    "\n",
    "Therefore, those words would be removed. It also reduces the computation time. \n",
    "\n",
    "Therefore, it is a good practice we are following."
   ]
  },
  {
   "cell_type": "code",
   "execution_count": 119,
   "id": "ad3937ea",
   "metadata": {
    "colab": {
     "base_uri": "https://localhost:8080/"
    },
    "id": "ad3937ea",
    "outputId": "68985efe-32cd-4c11-ed5b-2e1e1b297e73"
   },
   "outputs": [
    {
     "name": "stdout",
     "output_type": "stream",
     "text": [
      "havent seen every single movie burt reynolds ever made one ive finished watching third time may well best suffers slow stretches burt perhaps tried make arty hand managed avoid many usual cliches presentation tough cop role plays notice example scene attempts kiss rachel ward first time fear expresses final showdown indestructible henry silva fact silva two ninja assassins three memorable villains cop thrillers film also offbeat touches surprising amount humor brutal gripping fistfight many welldirected shots\n"
     ]
    }
   ],
   "source": [
    "custom_review = X_train.iloc[0]\n",
    "\n",
    "# print cleaned review\n",
    "print(clean_review(custom_review))"
   ]
  },
  {
   "cell_type": "markdown",
   "id": "3e6cc440",
   "metadata": {
    "id": "3e6cc440"
   },
   "source": [
    "We now use this function to pre-process the review and remove words that don't add a lot of meaning in our model. "
   ]
  },
  {
   "cell_type": "markdown",
   "id": "5a762960",
   "metadata": {
    "id": "5a762960"
   },
   "source": [
    "## Q3. Implementing review counter function: (5 points)\n",
    "\n",
    "It is now time to implement the count function for the reviews. \n",
    "\n",
    "In this function, we count the occurrence of words and get the probabilities \n",
    "for the words based on the training data. \n",
    "\n",
    "In other words, we get the probability of occurrence of a word, given that the output is 'positive'.\n",
    "\n",
    "Similarly, we also compute the probability of occurence of a word, given that the output is 'negative'.\n",
    "\n"
   ]
  },
  {
   "cell_type": "code",
   "execution_count": 120,
   "id": "5de61f77",
   "metadata": {
    "id": "5de61f77"
   },
   "outputs": [],
   "source": [
    "# TASK CELL\n",
    "def review_counter(output_occurrence, reviews, positive_or_negative):\n",
    "    '''\n",
    "    Params:\n",
    "        output_occurrence: a dictionary that will be used to map each pair to its frequency\n",
    "        reviews: a list of reviews\n",
    "        positive_or_negative: a list corresponding to the sentiment of each review (either 0 or 1)\n",
    "    Return:\n",
    "        output: a dictionary mapping each pair to its frequency\n",
    "    '''\n",
    "    ## Steps :\n",
    "    # define the key, which is the word and label tuple\n",
    "    # if the key exists in the dictionary, increment the count\n",
    "    # else, if the key is new, add it to the dictionary and set the count to 1\n",
    "    \n",
    "    for label, review in zip(positive_or_negative, reviews):\n",
    "      split_review = clean_review(review).split()\n",
    "      for word in split_review:\n",
    "        if (word,label) in output_occurrence:\n",
    "            output_occurrence[(word,label)] += 1\n",
    "        else:\n",
    "            output_occurrence[(word,label)] = 1\n",
    "            \n",
    "   \n",
    "    return output_occurrence \n",
    "   \n"
   ]
  },
  {
   "cell_type": "markdown",
   "id": "18238223",
   "metadata": {
    "id": "18238223"
   },
   "source": [
    "### Test your function with example reviews:\n",
    "\n",
    "Feel free to run the cell below and understand whether the above function that you have defined is producing the optimum results. "
   ]
  },
  {
   "cell_type": "code",
   "execution_count": 121,
   "id": "07a4c58a",
   "metadata": {
    "colab": {
     "base_uri": "https://localhost:8080/"
    },
    "id": "07a4c58a",
    "outputId": "dd9e148a-34a9-4cfe-9077-c5de33493d7a"
   },
   "outputs": [
    {
     "data": {
      "text/plain": [
       "{('got', 1): 1,\n",
       " ('bored', 1): 2,\n",
       " ('throught', 1): 1,\n",
       " ('moview', 1): 1,\n",
       " ('movie', 0): 2,\n",
       " ('fantastic', 0): 1,\n",
       " ('watch', 1): 1,\n",
       " ('complete', 1): 1,\n",
       " ('waste', 1): 1,\n",
       " ('time', 1): 1,\n",
       " ('money', 1): 1,\n",
       " ('enjoyed', 0): 1,\n",
       " ('fullest', 0): 1}"
      ]
     },
     "execution_count": 121,
     "metadata": {},
     "output_type": "execute_result"
    }
   ],
   "source": [
    "# Testing your function\n",
    "\n",
    "result = {}\n",
    "reviews = ['got bored throught the moview', 'The movie was fantastic', 'Will not watch it again', 'Was bored, it was a complete waste of time and money', 'Enjoyed the movie to the fullest']\n",
    "ys = [1, 0, 1, 1, 0]\n",
    "review_counter(result,reviews, ys)"
   ]
  },
  {
   "cell_type": "markdown",
   "id": "927f89bb",
   "metadata": {
    "id": "927f89bb"
   },
   "source": [
    "### Expected Output:\n",
    " {('bored', 1): 2, <br>\n",
    " ('complete', 1): 1, <br>\n",
    " ('enjoyed', 0): 1, <br>\n",
    " ('fantastic', 0): 1, <br>\n",
    " ('fullest', 0): 1, <br>\n",
    " ('got', 1): 1, <br>\n",
    " ('money', 1): 1, <br>\n",
    " ('movie', 0): 2, <br>\n",
    " ('moview', 1): 1, <br>\n",
    " ('throught', 1): 1, <br>\n",
    " ('time', 1): 1, <br>\n",
    " ('waste', 1): 1, <br>\n",
    " ('watch', 1): 1}"
   ]
  },
  {
   "cell_type": "code",
   "execution_count": 166,
   "id": "9bc62e13",
   "metadata": {
    "id": "9bc62e13"
   },
   "outputs": [],
   "source": [
    "# Build the freqs dictionary for later uses\n",
    "\n",
    "freqs = review_counter({}, X_train, y_train)"
   ]
  },
  {
   "cell_type": "code",
   "execution_count": 123,
   "id": "0eddf420",
   "metadata": {
    "id": "0eddf420"
   },
   "outputs": [
    {
     "data": {
      "text/plain": [
       "{('havent', 0): 343,\n",
       " ('seen', 0): 2697,\n",
       " ('every', 0): 1590,\n",
       " ('single', 0): 289,\n",
       " ('movie', 0): 14654,\n",
       " ('burt', 0): 59,\n",
       " ('reynolds', 0): 78,\n",
       " ('ever', 0): 2115,\n",
       " ('made', 0): 2867,\n",
       " ('one', 0): 10438,\n",
       " ('ive', 0): 1277,\n",
       " ('finished', 0): 88,\n",
       " ('watching', 0): 1518,\n",
       " ('third', 0): 270,\n",
       " ('time', 0): 4721,\n",
       " ('may', 0): 1548,\n",
       " ('well', 0): 4474,\n",
       " ('best', 0): 3350,\n",
       " ('suffers', 0): 64,\n",
       " ('slow', 0): 345,\n",
       " ('stretches', 0): 13,\n",
       " ('perhaps', 0): 648,\n",
       " ('tried', 0): 184,\n",
       " ('make', 0): 2564,\n",
       " ('arty', 0): 14,\n",
       " ('hand', 0): 386,\n",
       " ('managed', 0): 158,\n",
       " ('avoid', 0): 106,\n",
       " ('many', 0): 3020,\n",
       " ('usual', 0): 409,\n",
       " ('cliches', 0): 10,\n",
       " ('presentation', 0): 68,\n",
       " ('tough', 0): 193,\n",
       " ('cop', 0): 194,\n",
       " ('role', 0): 1402,\n",
       " ('plays', 0): 1051,\n",
       " ('notice', 0): 165,\n",
       " ('example', 0): 467,\n",
       " ('scene', 0): 2002,\n",
       " ('attempts', 0): 166,\n",
       " ('kiss', 0): 83,\n",
       " ('rachel', 0): 56,\n",
       " ('ward', 0): 42,\n",
       " ('first', 0): 3538,\n",
       " ('fear', 0): 220,\n",
       " ('expresses', 0): 26,\n",
       " ('final', 0): 558,\n",
       " ('showdown', 0): 42,\n",
       " ('indestructible', 0): 8,\n",
       " ('henry', 0): 153,\n",
       " ('silva', 0): 8,\n",
       " ('fact', 0): 1201,\n",
       " ('two', 0): 2796,\n",
       " ('ninja', 0): 33,\n",
       " ('assassins', 0): 12,\n",
       " ('three', 0): 959,\n",
       " ('memorable', 0): 390,\n",
       " ('villains', 0): 115,\n",
       " ('thrillers', 0): 69,\n",
       " ('film', 0): 15744,\n",
       " ('also', 0): 4258,\n",
       " ('offbeat', 0): 45,\n",
       " ('touches', 0): 114,\n",
       " ('surprising', 0): 162,\n",
       " ('amount', 0): 195,\n",
       " ('humor', 0): 539,\n",
       " ('brutal', 0): 147,\n",
       " ('gripping', 0): 92,\n",
       " ('fistfight', 0): 5,\n",
       " ('welldirected', 0): 8,\n",
       " ('shots', 0): 303,\n",
       " ('die', 0): 256,\n",
       " ('nibelungen', 0): 1,\n",
       " ('siegfried', 0): 6,\n",
       " ('betrayed', 0): 19,\n",
       " ('kriemhild', 0): 1,\n",
       " ('seeks', 0): 47,\n",
       " ('revenge', 0): 151,\n",
       " ('marries', 0): 41,\n",
       " ('hagen', 0): 3,\n",
       " ('series', 0): 1439,\n",
       " ('events', 0): 412,\n",
       " ('finally', 0): 668,\n",
       " ('engages', 0): 8,\n",
       " ('drastic', 0): 7,\n",
       " ('fitting', 0): 50,\n",
       " ('action', 0): 1161,\n",
       " ('endbr', 0): 65,\n",
       " ('br', 0): 22424,\n",
       " ('things', 0): 1408,\n",
       " ('nowadays', 0): 76,\n",
       " ('look', 0): 1460,\n",
       " ('certain', 0): 362,\n",
       " ('portrayals', 0): 49,\n",
       " ('attila', 0): 1,\n",
       " ('hun', 0): 1,\n",
       " ('called', 0): 444,\n",
       " ('etzel', 0): 1,\n",
       " ('shown', 0): 446,\n",
       " ('strange', 0): 347,\n",
       " ('person', 0): 586,\n",
       " ('east', 0): 74,\n",
       " ('possibly', 0): 213,\n",
       " ('allusion', 0): 4,\n",
       " ('soviet', 0): 82,\n",
       " ('union', 0): 76,\n",
       " ('obviously', 0): 361,\n",
       " ('fritz', 0): 22,\n",
       " ('langs', 0): 11,\n",
       " ('fault', 0): 53,\n",
       " ('hitler', 0): 76,\n",
       " ('used', 0): 772,\n",
       " ('nibelungenlied', 0): 1,\n",
       " ('german', 0): 225,\n",
       " ('national', 0): 104,\n",
       " ('pride', 0): 67,\n",
       " ('reich', 0): 3,\n",
       " ('see', 0): 4714,\n",
       " ('fuhrer', 0): 3,\n",
       " ('liked', 0): 676,\n",
       " ('story', 0): 5041,\n",
       " ('nonetheless', 0): 88,\n",
       " ('absolutely', 0): 537,\n",
       " ('formidable', 0): 16,\n",
       " ('know', 0): 2242,\n",
       " ('girl', 0): 915,\n",
       " ('figure', 0): 271,\n",
       " ('skating', 0): 20,\n",
       " ('lead', 0): 499,\n",
       " ('dated', 0): 121,\n",
       " ('brother', 0): 398,\n",
       " ('always', 0): 1588,\n",
       " ('really', 0): 4200,\n",
       " ('nice', 0): 847,\n",
       " ('live', 0): 701,\n",
       " ('cranbrook', 0): 1,\n",
       " ('bc', 0): 19,\n",
       " ('minutes', 0): 669,\n",
       " ('fort', 0): 22,\n",
       " ('steele', 0): 24,\n",
       " ('haha', 0): 8,\n",
       " ('go', 0): 1884,\n",
       " ('field', 0): 83,\n",
       " ('trips', 0): 15,\n",
       " ('elementary', 0): 10,\n",
       " ('school', 0): 574,\n",
       " ('kinda', 0): 101,\n",
       " ('weird', 0): 206,\n",
       " ('seeing', 0): 855,\n",
       " ('chance', 0): 451,\n",
       " ('filming', 0): 134,\n",
       " ('extra', 0): 131,\n",
       " ('casting', 0): 210,\n",
       " ('call', 0): 297,\n",
       " ('mallbut', 0): 1,\n",
       " ('didnt', 0): 1350,\n",
       " ('feel', 0): 1197,\n",
       " ('like', 0): 6871,\n",
       " ('going', 0): 1402,\n",
       " ('wasnt', 0): 656,\n",
       " ('interested', 0): 285,\n",
       " ('acting', 0): 1935,\n",
       " ('totally', 0): 440,\n",
       " ('wish', 0): 370,\n",
       " ('awesome', 0): 253,\n",
       " ('bought', 0): 180,\n",
       " ('ebay', 0): 24,\n",
       " ('never', 0): 2481,\n",
       " ('came', 0): 682,\n",
       " ('kind', 0): 961,\n",
       " ('partially', 0): 28,\n",
       " ('filmed', 0): 327,\n",
       " ('excited', 0): 77,\n",
       " ('loved', 0): 886,\n",
       " ('line', 0): 594,\n",
       " ('poler', 0): 1,\n",
       " ('bear', 0): 69,\n",
       " ('cutebut', 0): 1,\n",
       " ('anyone', 0): 987,\n",
       " ('question', 0): 283,\n",
       " ('ask', 0): 208,\n",
       " ('away', 0): 995,\n",
       " ('nothing', 0): 978,\n",
       " ('remotely', 0): 22,\n",
       " ('scary', 0): 272,\n",
       " ('modern', 0): 413,\n",
       " ('horror', 0): 1134,\n",
       " ('insult', 0): 18,\n",
       " ('word', 0): 300,\n",
       " ('freddie', 0): 7,\n",
       " ('vs', 0): 129,\n",
       " ('jason', 0): 153,\n",
       " ('scream', 0): 71,\n",
       " ('movies', 0): 2866,\n",
       " ('cabin', 0): 21,\n",
       " ('trash', 0): 75,\n",
       " ('especially', 0): 1205,\n",
       " ('stephen', 0): 116,\n",
       " ('kings', 0): 55,\n",
       " ('infantile', 0): 3,\n",
       " ('hes', 0): 1012,\n",
       " ('recycled', 0): 12,\n",
       " ('monkeys', 0): 37,\n",
       " ('paw', 0): 6,\n",
       " ('whatever', 0): 191,\n",
       " ('often', 0): 772,\n",
       " ('writing', 0): 373,\n",
       " ('except', 0): 311,\n",
       " ('kubricks', 0): 31,\n",
       " ('version', 0): 828,\n",
       " ('shining', 0): 53,\n",
       " ('actually', 0): 1371,\n",
       " ('unlike', 0): 314,\n",
       " ('books', 0): 181,\n",
       " ('frightening', 0): 88,\n",
       " ('big', 0): 1396,\n",
       " ('toe', 0): 13,\n",
       " ('left', 0): 702,\n",
       " ('still', 0): 2567,\n",
       " ('nailbr', 0): 1,\n",
       " ('woman', 0): 1016,\n",
       " ('black', 0): 782,\n",
       " ('rare', 0): 266,\n",
       " ('hairs', 0): 6,\n",
       " ('back', 0): 1859,\n",
       " ('neck', 0): 41,\n",
       " ('stand', 0): 253,\n",
       " ('end', 0): 2027,\n",
       " ('way', 0): 3106,\n",
       " ('done', 0): 1180,\n",
       " ('director', 0): 1342,\n",
       " ('creates', 0): 139,\n",
       " ('tension', 0): 178,\n",
       " ('scariest', 0): 34,\n",
       " ('ghost', 0): 137,\n",
       " ('simply', 0): 694,\n",
       " ('suddenly', 0): 169,\n",
       " ('turn', 0): 485,\n",
       " ('standing', 0): 86,\n",
       " ('somewhere', 0): 142,\n",
       " ('incredible', 0): 281,\n",
       " ('face', 0): 592,\n",
       " ('brings', 0): 327,\n",
       " ('ghastly', 0): 8,\n",
       " ('disturbing', 0): 208,\n",
       " ('close', 0): 431,\n",
       " ('learned', 0): 145,\n",
       " ('lessons', 0): 83,\n",
       " ('masters', 0): 60,\n",
       " ('knew', 0): 369,\n",
       " ('val', 0): 22,\n",
       " ('lewton', 0): 4,\n",
       " ('original', 0): 1027,\n",
       " ('cat', 0): 176,\n",
       " ('people', 0): 3390,\n",
       " ('robert', 0): 447,\n",
       " ('wise', 0): 99,\n",
       " ('disciple', 0): 5,\n",
       " ('haunting', 0): 123,\n",
       " ('body', 0): 357,\n",
       " ('snatcher', 0): 3,\n",
       " ('jacques', 0): 19,\n",
       " ('tournier', 0): 1,\n",
       " ('another', 0): 1593,\n",
       " ('directed', 0): 502,\n",
       " ('truly', 0): 801,\n",
       " ('horrifying', 0): 39,\n",
       " ('zombie', 0): 108,\n",
       " ('gross', 0): 42,\n",
       " ('rubbish', 0): 25,\n",
       " ('raimi', 0): 6,\n",
       " ('isnt', 0): 1013,\n",
       " ('folks', 0): 135,\n",
       " ('lewis', 0): 90,\n",
       " ('allen', 0): 89,\n",
       " ('uninvited', 0): 5,\n",
       " ('course', 0): 1099,\n",
       " ('jack', 0): 384,\n",
       " ('claytons', 0): 2,\n",
       " ('james', 0): 502,\n",
       " ('innocents', 0): 7,\n",
       " ('master', 0): 222,\n",
       " ('suspense', 0): 286,\n",
       " ('hitchcock', 0): 154,\n",
       " ('bring', 0): 374,\n",
       " ('edge', 0): 224,\n",
       " ('seat', 0): 113,\n",
       " ('even', 0): 3701,\n",
       " ('slowbuilding', 0): 1,\n",
       " ('burning', 0): 50,\n",
       " ('period', 0): 333,\n",
       " ('piece', 0): 501,\n",
       " ('capricornbr', 0): 1,\n",
       " ('ten', 0): 306,\n",
       " ('stars', 0): 561,\n",
       " ('geared', 0): 10,\n",
       " ('allay', 0): 1,\n",
       " ('fears', 0): 64,\n",
       " ('starts', 0): 427,\n",
       " ('high', 0): 710,\n",
       " ('gangs', 0): 24,\n",
       " ('squaring', 0): 1,\n",
       " ('bad', 0): 1435,\n",
       " ('kungfu', 0): 30,\n",
       " ('scenario', 0): 53,\n",
       " ('found', 0): 1004,\n",
       " ('countless', 0): 51,\n",
       " ('korean', 0): 62,\n",
       " ('films', 0): 3389,\n",
       " ('hohum', 0): 4,\n",
       " ('add', 0): 270,\n",
       " ('written', 0): 534,\n",
       " ('guy', 0): 933,\n",
       " ('wrote', 0): 181,\n",
       " ('cool', 0): 355,\n",
       " ('barely', 0): 106,\n",
       " ('passable', 0): 13,\n",
       " ('thought', 0): 1244,\n",
       " ('nondescript', 0): 9,\n",
       " ('hoursbr', 0): 8,\n",
       " ('dont', 0): 2678,\n",
       " ('give', 0): 1186,\n",
       " ('quickly', 0): 236,\n",
       " ('romance', 0): 346,\n",
       " ('taegyun', 0): 1,\n",
       " ('kim', 0): 75,\n",
       " ('volcano', 0): 8,\n",
       " ('loads', 0): 42,\n",
       " ('fun', 0): 1226,\n",
       " ('anyway', 0): 331,\n",
       " ('soon', 0): 477,\n",
       " ('takes', 0): 997,\n",
       " ('much', 0): 3628,\n",
       " ('better', 0): 1792,\n",
       " ('moved', 0): 156,\n",
       " ('seoul', 0): 6,\n",
       " ('finds', 0): 419,\n",
       " ('middle', 0): 266,\n",
       " ('attention', 0): 378,\n",
       " ('prospective', 0): 5,\n",
       " ('suitors', 0): 3,\n",
       " ('merit', 0): 30,\n",
       " ('clear', 0): 295,\n",
       " ('either', 0): 489,\n",
       " ('would', 0): 4143,\n",
       " ('right', 0): 1275,\n",
       " ('pickbr', 0): 2,\n",
       " ('follows', 0): 261,\n",
       " ('teen', 0): 128,\n",
       " ('love', 0): 3342,\n",
       " ('triangle', 0): 43,\n",
       " ('emotions', 0): 250,\n",
       " ('complex', 0): 238,\n",
       " ('agree', 0): 220,\n",
       " ('choices', 0): 80,\n",
       " ('actions', 0): 150,\n",
       " ('develops', 0): 72,\n",
       " ('certainly', 0): 677,\n",
       " ('understand', 0): 667,\n",
       " ('characters', 0): 2937,\n",
       " ('thembr', 0): 107,\n",
       " ('asks', 0): 127,\n",
       " ('questions', 0): 217,\n",
       " ('audience', 0): 775,\n",
       " ('choose', 0): 93,\n",
       " ('point', 0): 971,\n",
       " ('obligated', 0): 5,\n",
       " ('choice', 0): 199,\n",
       " ('unfair', 0): 29,\n",
       " ('seems', 0): 1213,\n",
       " ('strung', 0): 16,\n",
       " ('along', 0): 828,\n",
       " ('heart', 0): 620,\n",
       " ('react', 0): 36,\n",
       " ('new', 0): 1810,\n",
       " ('information', 0): 169,\n",
       " ('comes', 0): 977,\n",
       " ('sheds', 0): 6,\n",
       " ('light', 0): 370,\n",
       " ('situation', 0): 308,\n",
       " ('near', 0): 289,\n",
       " ('subtle', 0): 265,\n",
       " ('perfectly', 0): 407,\n",
       " ('captures', 0): 144,\n",
       " ('think', 0): 2866,\n",
       " ('reallife', 0): 52,\n",
       " ('reaction', 0): 100,\n",
       " ('instead', 0): 559,\n",
       " ('overthetop', 0): 83,\n",
       " ('subtlety', 0): 46,\n",
       " ('character', 0): 2591,\n",
       " ('background', 0): 253,\n",
       " ('recent', 0): 213,\n",
       " ('revelations', 0): 20,\n",
       " ('confused', 0): 124,\n",
       " ('emotionally', 0): 122,\n",
       " ('overwhelmed', 0): 25,\n",
       " ('basically', 0): 255,\n",
       " ('doesnt', 0): 1489,\n",
       " ('act', 0): 442,\n",
       " ('something', 0): 1650,\n",
       " ('gapemouthed', 0): 1,\n",
       " ('dumbstruck', 0): 1,\n",
       " ('stares', 0): 14,\n",
       " ('fixed', 0): 24,\n",
       " ('unable', 0): 94,\n",
       " ('say', 0): 1870,\n",
       " ('anything', 0): 813,\n",
       " ('someone', 0): 648,\n",
       " ('pulled', 0): 113,\n",
       " ('plug', 0): 14,\n",
       " ('rang', 0): 6,\n",
       " ('true', 0): 1091,\n",
       " ('appreciated', 0): 101,\n",
       " ('scenebr', 0): 39,\n",
       " ('mix', 0): 141,\n",
       " ('bravado', 0): 8,\n",
       " ('slapstick', 0): 82,\n",
       " ('melodrama', 0): 88,\n",
       " ('take', 0): 1365,\n",
       " ('abrupt', 0): 24,\n",
       " ('turns', 0): 522,\n",
       " ('sex', 0): 481,\n",
       " ('zero', 0): 60,\n",
       " ('great', 0): 5055,\n",
       " ('quite', 0): 1649,\n",
       " ('shock', 0): 127,\n",
       " ('uninitiated', 0): 1,\n",
       " ('ahead', 0): 140,\n",
       " ('initiate', 0): 2,\n",
       " ('hate', 0): 293,\n",
       " ('viewers', 0): 340,\n",
       " ('able', 0): 594,\n",
       " ('relate', 0): 176,\n",
       " ('appreciate', 0): 267,\n",
       " ('reactions', 0): 51,\n",
       " ('comment', 0): 230,\n",
       " ('probably', 0): 1078,\n",
       " ('spoilers', 0): 141,\n",
       " ('checked', 0): 25,\n",
       " ('box', 0): 207,\n",
       " ('case', 0): 513,\n",
       " ('might', 0): 977,\n",
       " ('aware', 0): 106,\n",
       " ('anyways', 0): 52,\n",
       " ('consider', 0): 208,\n",
       " ('spoiler', 0): 115,\n",
       " ('wowbest', 0): 1,\n",
       " ('game', 0): 574,\n",
       " ('since', 0): 1214,\n",
       " ('super', 0): 132,\n",
       " ('mario', 0): 82,\n",
       " ('got', 0): 1262,\n",
       " ('day', 0): 1051,\n",
       " ('went', 0): 513,\n",
       " ('gaming', 0): 11,\n",
       " ('websites', 0): 6,\n",
       " ('ratings', 0): 65,\n",
       " ('yes', 0): 563,\n",
       " ('already', 0): 456,\n",
       " ('reviewed', 0): 20,\n",
       " ('shocked', 0): 73,\n",
       " ('expecting', 0): 191,\n",
       " ('sunshine', 0): 36,\n",
       " ('lately', 0): 37,\n",
       " ('games', 0): 164,\n",
       " ('getting', 0): 606,\n",
       " ('worse', 0): 181,\n",
       " ('beat', 0): 143,\n",
       " ('scores', 0): 44,\n",
       " ('halo', 0): 3,\n",
       " ('amazingbr', 0): 16,\n",
       " ('known', 0): 463,\n",
       " ('plots', 0): 93,\n",
       " ('difference', 0): 152,\n",
       " ('bowser', 0): 9,\n",
       " ('kidnaps', 0): 19,\n",
       " ('peach', 0): 7,\n",
       " ('invades', 0): 6,\n",
       " ('mushroom', 0): 3,\n",
       " ('kingdom', 0): 40,\n",
       " ('festival', 0): 190,\n",
       " ('celebrated', 0): 23,\n",
       " ('century', 0): 228,\n",
       " ('gets', 0): 1194,\n",
       " ('flying', 0): 127,\n",
       " ('saucer', 0): 5,\n",
       " ('shoots', 0): 50,\n",
       " ('lasers', 0): 4,\n",
       " ('ground', 0): 110,\n",
       " ('put', 0): 877,\n",
       " ('anchors', 0): 31,\n",
       " ('inside', 0): 284,\n",
       " ('rip', 0): 38,\n",
       " ('castle', 0): 145,\n",
       " ('foundation', 0): 25,\n",
       " ('outer', 0): 32,\n",
       " ('spacebr', 0): 4,\n",
       " ('graphics', 0): 57,\n",
       " ('gorgeous', 0): 174,\n",
       " ('wii', 0): 6,\n",
       " ('far', 0): 983,\n",
       " ('water', 0): 262,\n",
       " ('effects', 0): 687,\n",
       " ('looks', 0): 661,\n",
       " ('real', 0): 1971,\n",
       " ('itbr', 0): 367,\n",
       " ('music', 0): 1533,\n",
       " ('amazing', 0): 813,\n",
       " ('orchestrated', 0): 13,\n",
       " ('ones', 0): 504,\n",
       " ('arent', 0): 277,\n",
       " ('sound', 0): 479,\n",
       " ('nicebr', 0): 6,\n",
       " ('gameplay', 0): 10,\n",
       " ('entertaining', 0): 659,\n",
       " ('keeps', 0): 312,\n",
       " ('wanting', 0): 152,\n",
       " ('play', 0): 991,\n",
       " ('usually', 0): 363,\n",
       " ('tend', 0): 101,\n",
       " ('frustrated', 0): 54,\n",
       " ('lot', 0): 1632,\n",
       " ('mean', 0): 416,\n",
       " ('im', 0): 1552,\n",
       " ('definitely', 0): 823,\n",
       " ('crazy', 0): 274,\n",
       " ('turning', 0): 96,\n",
       " ('mad', 0): 167,\n",
       " ('thatbr', 0): 76,\n",
       " ('difficulty', 0): 32,\n",
       " ('types', 0): 97,\n",
       " ('technically', 0): 66,\n",
       " ('easy', 0): 381,\n",
       " ('get', 0): 3235,\n",
       " ('quest', 0): 85,\n",
       " ('harder', 0): 37,\n",
       " ('funbr', 0): 35,\n",
       " ('length', 0): 129,\n",
       " ('good', 0): 5791,\n",
       " ('short', 0): 786,\n",
       " ('took', 0): 455,\n",
       " ('around', 0): 1284,\n",
       " ('hours', 0): 336,\n",
       " ('constantly', 0): 168,\n",
       " ('played', 0): 1196,\n",
       " ('next', 0): 634,\n",
       " ('couple', 0): 620,\n",
       " ('days', 0): 578,\n",
       " ('though', 0): 1830,\n",
       " ('tiny', 0): 94,\n",
       " ('bit', 0): 1334,\n",
       " ('want', 0): 1180,\n",
       " ('long', 0): 1305,\n",
       " ('suggest', 0): 141,\n",
       " ('cinematic', 0): 171,\n",
       " ('scenes', 0): 1918,\n",
       " ('superb', 0): 418,\n",
       " ('theaters', 0): 84,\n",
       " ('hands', 0): 259,\n",
       " ('farbr', 0): 9,\n",
       " ('overall', 0): 600,\n",
       " ('advise', 0): 26,\n",
       " ('wait', 0): 240,\n",
       " ('christmas', 0): 149,\n",
       " ('possible', 0): 358,\n",
       " ('mixture', 0): 54,\n",
       " ('old', 0): 1621,\n",
       " ('youll', 0): 590,\n",
       " ('sidescroller', 0): 1,\n",
       " ('levels', 0): 98,\n",
       " ('move', 0): 270,\n",
       " ('side', 0): 514,\n",
       " ('theyll', 0): 41,\n",
       " ('change', 0): 417,\n",
       " ('gravity', 0): 18,\n",
       " ('classics', 0): 110,\n",
       " ('masterpiece', 0): 346,\n",
       " ('favorite', 0): 784,\n",
       " ('others', 0): 745,\n",
       " ('disagree', 0): 65,\n",
       " ('recommend', 0): 834,\n",
       " ('gamer', 0): 11,\n",
       " ('wants', 0): 519,\n",
       " ('return', 0): 278,\n",
       " ('jedi', 0): 23,\n",
       " ('packed', 0): 65,\n",
       " ('fine', 0): 668,\n",
       " ('conclusion', 0): 142,\n",
       " ('star', 0): 780,\n",
       " ('wars', 0): 154,\n",
       " ('saga', 0): 43,\n",
       " ('han', 0): 21,\n",
       " ('solo', 0): 49,\n",
       " ('imprisoned', 0): 14,\n",
       " ('jabba', 0): 7,\n",
       " ('hut', 0): 9,\n",
       " ('empire', 0): 39,\n",
       " ('building', 0): 140,\n",
       " ('death', 0): 826,\n",
       " ('rebel', 0): 37,\n",
       " ('alliance', 0): 10,\n",
       " ('facing', 0): 50,\n",
       " ('uphill', 0): 5,\n",
       " ('struggle', 0): 157,\n",
       " ('dark', 0): 599,\n",
       " ('favourite', 0): 162,\n",
       " ('heroes', 0): 117,\n",
       " ('pull', 0): 126,\n",
       " ('offbr', 0): 27,\n",
       " ('opening', 0): 422,\n",
       " ('sequence', 0): 388,\n",
       " ('set', 0): 937,\n",
       " ('tatooine', 0): 2,\n",
       " ('jabbas', 0): 5,\n",
       " ('palace', 0): 38,\n",
       " ('pit', 0): 30,\n",
       " ('slavery', 0): 20,\n",
       " ('scum', 0): 16,\n",
       " ('home', 0): 829,\n",
       " ('luke', 0): 77,\n",
       " ('gang', 0): 149,\n",
       " ('prepare', 0): 28,\n",
       " ('rescue', 0): 79,\n",
       " ('lukes', 0): 5,\n",
       " ('powers', 0): 103,\n",
       " ('edgebr', 0): 6,\n",
       " ('witness', 0): 91,\n",
       " ('tremendous', 0): 79,\n",
       " ('triple', 0): 18,\n",
       " ('battle', 0): 300,\n",
       " ('leia', 0): 9,\n",
       " ('chewy', 0): 1,\n",
       " ('endor', 0): 9,\n",
       " ('desperate', 0): 98,\n",
       " ('deactivate', 0): 1,\n",
       " ('shields', 0): 8,\n",
       " ('protecting', 0): 16,\n",
       " ('fleet', 0): 21,\n",
       " ('led', 0): 167,\n",
       " ('lando', 0): 6,\n",
       " ('imperial', 0): 18,\n",
       " ('darth', 0): 21,\n",
       " ('vader', 0): 22,\n",
       " ('epic', 0): 147,\n",
       " ('classic', 0): 925,\n",
       " ('pace', 0): 258,\n",
       " ('twobr', 0): 18,\n",
       " ('anthology', 0): 16,\n",
       " ('rather', 0): 1040,\n",
       " ('could', 0): 2346,\n",
       " ('compare', 0): 136,\n",
       " ('doctor', 0): 307,\n",
       " ('terrors', 0): 3,\n",
       " ('house', 0): 720,\n",
       " ('horrors', 0): 59,\n",
       " ('title', 0): 532,\n",
       " ('fits', 0): 101,\n",
       " ('four', 0): 346,\n",
       " ('stories', 0): 487,\n",
       " ('somewhat', 0): 399,\n",
       " ('connected', 0): 47,\n",
       " ('tale', 0): 378,\n",
       " ('writer', 0): 232,\n",
       " ('wife', 0): 815,\n",
       " ('moving', 0): 419,\n",
       " ('killer', 0): 352,\n",
       " ('latest', 0): 91,\n",
       " ('novel', 0): 376,\n",
       " ('roaming', 0): 7,\n",
       " ('sort', 0): 468,\n",
       " ('predictable', 0): 174,\n",
       " ('throw', 0): 122,\n",
       " ('twists', 0): 225,\n",
       " ('unpredictable', 0): 33,\n",
       " ('heck', 0): 56,\n",
       " ('features', 0): 307,\n",
       " ('peter', 0): 341,\n",
       " ('cushing', 0): 17,\n",
       " ('bunch', 0): 171,\n",
       " ('buys', 0): 17,\n",
       " ('center', 0): 103,\n",
       " ('stage', 0): 319,\n",
       " ('wax', 0): 64,\n",
       " ('museum', 0): 53,\n",
       " ('christopher', 0): 156,\n",
       " ('lee', 0): 231,\n",
       " ('bizarre', 0): 183,\n",
       " ('dad', 0): 163,\n",
       " ('awfully', 0): 19,\n",
       " ('protective', 0): 17,\n",
       " ('daughter', 0): 396,\n",
       " ('problem', 0): 398,\n",
       " ('enough', 0): 1115,\n",
       " ('drags', 0): 23,\n",
       " ('leading', 0): 277,\n",
       " ('concerns', 0): 66,\n",
       " ('actor', 0): 827,\n",
       " ('buying', 0): 60,\n",
       " ('cloak', 0): 9,\n",
       " ('odd', 0): 217,\n",
       " ('little', 0): 2595,\n",
       " ('shop', 0): 118,\n",
       " ('paid', 0): 82,\n",
       " ('small', 0): 720,\n",
       " ('officer', 0): 130,\n",
       " ('throughout', 0): 562,\n",
       " ('trying', 0): 773,\n",
       " ('find', 0): 1721,\n",
       " ('happened', 0): 366,\n",
       " ('explanation', 0): 69,\n",
       " ('satisfied', 0): 55,\n",
       " ('explained', 0): 59,\n",
       " ('cushings', 0): 4,\n",
       " ('needed', 0): 213,\n",
       " ('interesting', 0): 1184,\n",
       " ('dvds', 0): 65,\n",
       " ('recently', 0): 287,\n",
       " ('six', 0): 134,\n",
       " ('frenchfilm', 0): 1,\n",
       " ('brush', 0): 12,\n",
       " ('french', 0): 418,\n",
       " ('planned', 0): 43,\n",
       " ('holiday', 0): 50,\n",
       " ('beautiful', 0): 1226,\n",
       " ('provence', 0): 1,\n",
       " ('year', 0): 826,\n",
       " ('improving', 0): 9,\n",
       " ('considerably', 0): 24,\n",
       " ('enhanced', 0): 34,\n",
       " ('appreciation', 0): 51,\n",
       " ('cinemabr', 0): 36,\n",
       " ('breath', 0): 83,\n",
       " ('fresh', 0): 227,\n",
       " ('air', 0): 251,\n",
       " ('stale', 0): 20,\n",
       " ('unimaginative', 0): 4,\n",
       " ('crash', 0): 88,\n",
       " ('bang', 0): 37,\n",
       " ('wallop', 0): 6,\n",
       " ('drivel', 0): 4,\n",
       " ('churned', 0): 8,\n",
       " ('hollywood', 0): 697,\n",
       " ('screenplay', 0): 229,\n",
       " ('writers', 0): 180,\n",
       " ('actors', 0): 1547,\n",
       " ('directors', 0): 332,\n",
       " ('cinematographers', 0): 6,\n",
       " ('follow', 0): 298,\n",
       " ('stimulating', 0): 21,\n",
       " ('identifiable', 0): 9,\n",
       " ('roles', 0): 475,\n",
       " ('without', 0): 1326,\n",
       " ('glossy', 0): 22,\n",
       " ('magazine', 0): 50,\n",
       " ('cover', 0): 130,\n",
       " ('figures', 0): 70,\n",
       " ('thing', 0): 1306,\n",
       " ('plot', 0): 1832,\n",
       " ('build', 0): 90,\n",
       " ('kept', 0): 272,\n",
       " ('guessing', 0): 86,\n",
       " ('selfish', 0): 44,\n",
       " ('thug', 0): 16,\n",
       " ('continually', 0): 32,\n",
       " ('treats', 0): 46,\n",
       " ('seemingly', 0): 130,\n",
       " ('nave', 0): 9,\n",
       " ('benefactor', 0): 1,\n",
       " ('type', 0): 452,\n",
       " ('contempt', 0): 11,\n",
       " ('excon', 0): 10,\n",
       " ('display', 0): 75,\n",
       " ('sexually', 0): 38,\n",
       " ('poor', 0): 292,\n",
       " ('half', 0): 538,\n",
       " ('deaf', 0): 28,\n",
       " ('heroine', 0): 110,\n",
       " ('prove', 0): 111,\n",
       " ('answer', 0): 145,\n",
       " ('dreams', 0): 185,\n",
       " ('fate', 0): 128,\n",
       " ('bestowed', 0): 6,\n",
       " ('upon', 0): 349,\n",
       " ('viewer', 0): 520,\n",
       " ('intrigued', 0): 36,\n",
       " ('unravel', 0): 18,\n",
       " ('answers', 0): 71,\n",
       " ('slowly', 0): 196,\n",
       " ('convincingly', 0): 51,\n",
       " ('challenge', 0): 75,\n",
       " ('shape', 0): 63,\n",
       " ('feeling', 0): 473,\n",
       " ('towards', 0): 264,\n",
       " ('otherbr', 0): 46,\n",
       " ('work', 0): 1655,\n",
       " ('psychological', 0): 136,\n",
       " ('motive', 0): 23,\n",
       " ('sub', 0): 31,\n",
       " ('parole', 0): 11,\n",
       " ('nuances', 0): 33,\n",
       " ('camera', 0): 464,\n",
       " ('worth', 0): 1024,\n",
       " ('second', 0): 773,\n",
       " ('imagination', 0): 131,\n",
       " ('hero', 0): 362,\n",
       " ('given', 0): 646,\n",
       " ('assist', 0): 14,\n",
       " ('misused', 0): 2,\n",
       " ('overworked', 0): 8,\n",
       " ('office', 0): 208,\n",
       " ('must', 0): 1303,\n",
       " ('broad', 0): 56,\n",
       " ('minded', 0): 23,\n",
       " ('believe', 0): 803,\n",
       " ('brilliant', 0): 740,\n",
       " ('lip', 0): 11,\n",
       " ('reading', 0): 242,\n",
       " ('falls', 0): 270,\n",
       " ('place', 0): 902,\n",
       " ('thrilling', 0): 61,\n",
       " ('ride', 0): 167,\n",
       " ('cinema', 0): 621,\n",
       " ('come', 0): 1227,\n",
       " ('five', 0): 259,\n",
       " ('full', 0): 678,\n",
       " ('human', 0): 822,\n",
       " ('emotion', 0): 167,\n",
       " ('wit', 0): 101,\n",
       " ('humour', 0): 194,\n",
       " ('intelligence', 0): 123,\n",
       " ('grows', 0): 60,\n",
       " ('lesson', 0): 115,\n",
       " ('life', 0): 2892,\n",
       " ('wonderful', 0): 1049,\n",
       " ('waysbr', 0): 12,\n",
       " ('cast', 0): 1539,\n",
       " ('fantasic', 0): 1,\n",
       " ('selection', 0): 28,\n",
       " ('finest', 0): 166,\n",
       " ('british', 0): 396,\n",
       " ('talent', 0): 306,\n",
       " ('diverse', 0): 28,\n",
       " ('element', 0): 165,\n",
       " ('brought', 0): 360,\n",
       " ('filmbr', 0): 327,\n",
       " ('italy', 0): 79,\n",
       " ('romantic', 0): 401,\n",
       " ('places', 0): 178,\n",
       " ('form', 0): 349,\n",
       " ('everything', 0): 948,\n",
       " ('worksbr', 0): 19,\n",
       " ('bridget', 0): 20,\n",
       " ('fonda', 0): 50,\n",
       " ('disappointed', 0): 245,\n",
       " ('several', 0): 632,\n",
       " ('times', 0): 1391,\n",
       " ('years', 0): 2077,\n",
       " ('break', 0): 215,\n",
       " ('missing', 0): 193,\n",
       " ('critical', 0): 81,\n",
       " ('details', 0): 174,\n",
       " ('scrutinizing', 0): 1,\n",
       " ('clues', 0): 49,\n",
       " ('meaningful', 0): 47,\n",
       " ('let', 0): 596,\n",
       " ('eyes', 0): 546,\n",
       " ('last', 0): 1179,\n",
       " ('musters', 0): 2,\n",
       " ('courage', 0): 77,\n",
       " ('literally', 0): 162,\n",
       " ('foot', 0): 78,\n",
       " ('front', 0): 225,\n",
       " ('toward', 0): 97,\n",
       " ('uncertain', 0): 21,\n",
       " ('future', 0): 370,\n",
       " ('dramatic', 0): 252,\n",
       " ('significant', 0): 81,\n",
       " ('examples', 0): 56,\n",
       " ('believed', 0): 73,\n",
       " ('completely', 0): 588,\n",
       " ('admired', 0): 28,\n",
       " ('broads', 0): 3,\n",
       " ('survived', 0): 35,\n",
       " ('similar', 0): 397,\n",
       " ('abusive', 0): 38,\n",
       " ('situations', 0): 229,\n",
       " ('becoming', 0): 164,\n",
       " ('manhaters', 0): 1,\n",
       " ('thats', 0): 1196,\n",
       " ('hopeful', 0): 25,\n",
       " ('projection', 0): 20,\n",
       " ('fondas', 0): 7,\n",
       " ('unpretentious', 0): 12,\n",
       " ('destined', 0): 29,\n",
       " ('become', 0): 703,\n",
       " ('cult', 0): 163,\n",
       " ('ripoffs', 0): 7,\n",
       " ('hope', 0): 591,\n",
       " ('sequel', 0): 211,\n",
       " ('underground', 0): 69,\n",
       " ('clubs', 0): 31,\n",
       " ('parties', 0): 43,\n",
       " ('drunk', 0): 74,\n",
       " ('ears', 0): 30,\n",
       " ('extacy', 0): 1,\n",
       " ('speed', 0): 101,\n",
       " ('lsd', 0): 7,\n",
       " ('dancing', 0): 249,\n",
       " ('sweating', 0): 6,\n",
       " ('eight', 0): 78,\n",
       " ('row', 0): 53,\n",
       " ('brake', 0): 5,\n",
       " ('followed', 0): 135,\n",
       " ('morning', 0): 108,\n",
       " ('nocansleep', 0): 1,\n",
       " ('almost', 0): 1250,\n",
       " ('week', 0): 163,\n",
       " ('waiting', 0): 185,\n",
       " ('till', 0): 93,\n",
       " ('weekend', 0): 75,\n",
       " ('againbr', 0): 62,\n",
       " ('absolute', 0): 134,\n",
       " ('favourites', 0): 22,\n",
       " ('dislike', 0): 59,\n",
       " ('murder', 0): 467,\n",
       " ('announced', 0): 19,\n",
       " ('delightful', 0): 169,\n",
       " ('surpassed', 0): 12,\n",
       " ('book', 0): 754,\n",
       " ('excellent', 0): 1350,\n",
       " ('adaptation', 0): 170,\n",
       " ('huge', 0): 340,\n",
       " ('improvement', 0): 26,\n",
       " ('geraldine', 0): 28,\n",
       " ('mcewan', 0): 6,\n",
       " ('mouthing', 0): 2,\n",
       " ('adaptations', 0): 40,\n",
       " ('surprisingly', 0): 251,\n",
       " ('started', 0): 312,\n",
       " ('ruined', 0): 38,\n",
       " ('script', 0): 727,\n",
       " ('confusing', 0): 102,\n",
       " ('solution', 0): 40,\n",
       " ('suffered', 0): 55,\n",
       " ('plodding', 0): 7,\n",
       " ('problems', 0): 370,\n",
       " ('worst', 0): 189,\n",
       " ('itv', 0): 19,\n",
       " ('sittaford', 0): 1,\n",
       " ('mystery', 0): 276,\n",
       " ('merits', 0): 24,\n",
       " ('turned', 0): 301,\n",
       " ('dull', 0): 112,\n",
       " ('nemesis', 0): 33,\n",
       " ('respects', 0): 26,\n",
       " ('despite', 0): 564,\n",
       " ('liberties', 0): 27,\n",
       " ('pretty', 0): 1220,\n",
       " ('rectifies', 0): 1,\n",
       " ('added', 0): 190,\n",
       " ('lionel', 0): 40,\n",
       " ('coming', 0): 472,\n",
       " ('across', 0): 406,\n",
       " ('irritating', 0): 46,\n",
       " ('acted', 0): 224,\n",
       " ('moments', 0): 698,\n",
       " ('sluggish', 0): 5,\n",
       " ('pacing', 0): 110,\n",
       " ('solid', 0): 263,\n",
       " ('decent', 0): 252,\n",
       " ('beautifully', 0): 289,\n",
       " ('photography', 0): 211,\n",
       " ('detail', 0): 169,\n",
       " ('performances', 0): 937,\n",
       " ('general', 0): 285,\n",
       " ('welldone', 0): 39,\n",
       " ('joan', 0): 133,\n",
       " ('hickson', 0): 5,\n",
       " ('miss', 0): 406,\n",
       " ('marple', 0): 5,\n",
       " ('liz', 0): 24,\n",
       " ('fraser', 0): 10,\n",
       " ('helen', 0): 66,\n",
       " ('cherry', 0): 7,\n",
       " ('joanna', 0): 33,\n",
       " ('hole', 0): 55,\n",
       " ('anna', 0): 90,\n",
       " ('cropper', 0): 4,\n",
       " ('margaret', 0): 39,\n",
       " ('tyzack', 0): 2,\n",
       " ('outstanding', 0): 261,\n",
       " ('chilling', 0): 103,\n",
       " ('performance', 0): 1430,\n",
       " ('clothilde', 0): 1,\n",
       " ('departments', 0): 11,\n",
       " ('bethany', 0): 13,\n",
       " ('cox', 0): 43,\n",
       " ('angles', 0): 68,\n",
       " ('jumpy', 0): 5,\n",
       " ...}"
      ]
     },
     "execution_count": 123,
     "metadata": {},
     "output_type": "execute_result"
    }
   ],
   "source": [
    "## Run this cell to get an idea about the corpus of words and their occurrence along with labels. \n",
    "## In this, we are computing the frequency of occurrence of word given that a review is 'positive'.\n",
    "## Similarly, we also compute the frequence of occurence of word given that a review is 'negative'.\n",
    "freqs"
   ]
  },
  {
   "cell_type": "markdown",
   "id": "759c24bc",
   "metadata": {
    "id": "759c24bc"
   },
   "source": [
    "## Q4. Training the Naive Bayes Model: (20 points)\n",
    "\n",
    "Now we are in the training phase of the Naive Bayes algorithm. In this cell, take a look at the ways to calculate the log likelihood and log prior values as these are important for testing in the next few cells. \n",
    "\n",
    "Also calculate the frequency of occurrence of words where the output is negative. In the same way, calculate the word frequency count using the above functions in order to compute the log likelihood.\n",
    "\n",
    "Return the logprior and loglikelihood output by the model from this function. "
   ]
  },
  {
   "cell_type": "code",
   "execution_count": 124,
   "id": "a7f280e3",
   "metadata": {
    "id": "a7f280e3"
   },
   "outputs": [],
   "source": [
    "def train_naive_bayes(freqs, train_x, train_y):\n",
    "    '''\n",
    "    Input:\n",
    "        freqs: dictionary from (word, label) to how often the word appears\n",
    "        train_x: a list of reviews\n",
    "        train_y: a list of labels correponding to the reviews (0,1)\n",
    "    Output:\n",
    "        logprior: the log prior. (equation 3 above)\n",
    "        loglikelihood: the log likelihood of you Naive bayes equation. (equation 6 above)\n",
    "    '''\n",
    "    loglikelihood = {}\n",
    "    logprior = 0\n",
    "\n",
    "\n",
    "    # calculate V, the number of unique words in the vocabulary\n",
    "    vocab = set(word for word,_ in freqs.keys())\n",
    "    V = len(vocab)\n",
    "\n",
    "    # calculate num_pos and num_neg - the total number of positive and negative words for all documents\n",
    "    num_pos = num_neg = 0\n",
    "    for pair in freqs.keys():\n",
    "        # if the label is positive (greater than zero)\n",
    "        word,label = pair\n",
    "        if label==0:\n",
    "\n",
    "            # Increment the number of positive words by the count for this (word, label) pair\n",
    "            num_pos += freqs[pair]\n",
    "\n",
    "        # else, the label is negative\n",
    "        else:\n",
    "\n",
    "            # increment the number of negative words by the count for this (word,label) pair\n",
    "            num_neg += freqs[pair]\n",
    "\n",
    "    # Calculate num_doc, the number of documents\n",
    "    num_doc = len(train_y)\n",
    "\n",
    "    # Calculate D_pos, the number of positive documents \n",
    "    pos_num_docs = sum(1 for label in train_y if label == 0)\n",
    "\n",
    "    # Calculate D_neg, the number of negative documents \n",
    "    neg_num_docs = num_doc - pos_num_docs\n",
    "\n",
    "    # Calculate logprior\n",
    "    logprior = np.log(pos_num_docs/neg_num_docs)\n",
    "\n",
    "    \n",
    "    # For each word in the vocabulary...\n",
    "    for word in vocab:\n",
    "        # get the positive and negative frequency of the word\n",
    "        freq_pos = find_occurrence(freqs, word, 0)\n",
    "        freq_neg = find_occurrence(freqs, word, 1)\n",
    "\n",
    "        # calculate the probability that each word is positive, and negative\n",
    "        p_w_pos = (freq_pos + 1)/(num_pos + V)\n",
    "        p_w_neg = (freq_neg + 1)/(num_neg + V)\n",
    "\n",
    "        # calculate the log likelihood of the word\n",
    "        loglikelihood[word] = np.log(p_w_neg/p_w_pos)\n",
    "\n",
    "\n",
    "    return logprior, loglikelihood"
   ]
  },
  {
   "cell_type": "code",
   "execution_count": 125,
   "id": "1561d892",
   "metadata": {
    "id": "1561d892"
   },
   "outputs": [
    {
     "name": "stdout",
     "output_type": "stream",
     "text": [
      "0.0\n",
      "96643\n"
     ]
    }
   ],
   "source": [
    "# You do not have to input any code in this cell, but it is relevant to grading, so please do not change anything\n",
    "logprior, loglikelihood = train_naive_bayes(freqs, X_train, y_train)\n",
    "print(logprior)\n",
    "print(len(loglikelihood))\n"
   ]
  },
  {
   "cell_type": "markdown",
   "id": "19d9c882",
   "metadata": {
    "id": "19d9c882"
   },
   "source": [
    "### Expected Output \n",
    "\n",
    "0.0 <br>\n",
    "91425"
   ]
  },
  {
   "cell_type": "markdown",
   "id": "78b51303",
   "metadata": {
    "id": "78b51303"
   },
   "source": [
    "## Q5. Implementing Naive Bayes Predict Function: (10 points)\n",
    "\n",
    "It is now time to make our prediction as to whether a given review is negative or positive respectively. \n",
    "\n",
    "After adding the log likelihood values, ensure that the output is 1 (negative) if the sum of the log likelihood value is greater than 0 and 0 (positive) if the sum of the log likelihood is less than or equal to 0. "
   ]
  },
  {
   "cell_type": "code",
   "execution_count": 58,
   "id": "b692c2f9",
   "metadata": {
    "id": "b692c2f9"
   },
   "outputs": [],
   "source": [
    "# TASK 4 CELL\n",
    "\n",
    "def naive_bayes_predict(review, logprior, loglikelihood):\n",
    "    '''\n",
    "    Params:\n",
    "        review: a string\n",
    "        logprior: a number\n",
    "        loglikelihood: a dictionary of words mapping to numbers\n",
    "    Return:\n",
    "        total_prob: the sum of all the loglikelihoods of each word in the review (if found in the dictionary) + logprior (a number)\n",
    "\n",
    "    '''\n",
    "    \n",
    "      # process the review to get a list of words\n",
    "    r = clean_review(review)\n",
    "    word_l = r.split()\n",
    "    # initialize probability to zero\n",
    "    total_prob = 0\n",
    "\n",
    "    # add the logprior\n",
    "    total_prob += logprior\n",
    "\n",
    "    for word in word_l:\n",
    "\n",
    "        # check if the word exists in the loglikelihood dictionary\n",
    "        if word in loglikelihood:\n",
    "            # add the log likelihood of that word to the probability\n",
    "            total_prob += loglikelihood[word]\n",
    "    if total_prob<0:\n",
    "        return 0\n",
    "    \n",
    "\n",
    "    return 1"
   ]
  },
  {
   "cell_type": "code",
   "execution_count": 24,
   "id": "4b170333",
   "metadata": {
    "colab": {
     "base_uri": "https://localhost:8080/"
    },
    "id": "4b170333",
    "outputId": "0cf6bc90-90e8-4dee-bf95-7eaf39dce147"
   },
   "outputs": [
    {
     "name": "stdout",
     "output_type": "stream",
     "text": [
      "The expected output is 1\n"
     ]
    }
   ],
   "source": [
    "# You do not have to input any code in this cell, but it is relevant to grading, so please do not change anything\n",
    "\n",
    "# Experiment with your own review.\n",
    "my_review = \"I thought this series was going to be another fun, action series with some dynamic plots and great performances. I was wrong. While I like Jamie Denton, this show is hardly worth watching at all, unless you enjoy watching some people brutalized and the actions of the agents supposedly warranted under the theme of national security. The show is great propaganda for the current government, and spews out jingoism as though we talk that way every day. After a couple of episodes, it was boring the hell out of me, and I started watching reruns of House Invaders on BBCAmerica instead. Rather watch CSI and Without a Trace, without a doubt.\"\n",
    "p = naive_bayes_predict(my_review, logprior, loglikelihood)\n",
    "print('The expected output is', p)"
   ]
  },
  {
   "cell_type": "markdown",
   "id": "6242708f",
   "metadata": {
    "id": "6242708f"
   },
   "source": [
    "### Expected Output :\n",
    "The expected output is 1"
   ]
  },
  {
   "cell_type": "markdown",
   "id": "7c4eeb71",
   "metadata": {
    "id": "7c4eeb71"
   },
   "source": [
    "## Q6. Implementing Naive Bayes Test function: (10 points)\n",
    "\n",
    "In this function, implement the previous functions such as naive_bayes_predict to get the predictions for the test set. \n",
    "\n",
    "In addition to this, the function should return the total number of reviews that it correctly classified as 'positive' or 'negative'. "
   ]
  },
  {
   "cell_type": "code",
   "execution_count": 141,
   "id": "66a511e7",
   "metadata": {
    "id": "66a511e7"
   },
   "outputs": [],
   "source": [
    "# UNQ_C6 (UNIQUE CELL IDENTIFIER, DO NOT EDIT)\n",
    "def test_naive_bayes(test_x, test_y, logprior, loglikelihood):\n",
    "    \"\"\"\n",
    "    Input:\n",
    "        test_x: A list of reviews\n",
    "        test_y: the corresponding labels for the list of reviews\n",
    "        logprior: the logprior\n",
    "        loglikelihood: a dictionary with the loglikelihoods for each word\n",
    "    Output:\n",
    "        accuracy: (# of reviews classified correctly)/(total # of reviews)\n",
    "    \"\"\"\n",
    "    accuracy = 0  \n",
    "\n",
    "    testy =[]\n",
    "    y_hats = []\n",
    "    for label in test_y:\n",
    "        testy.append(int(label))\n",
    "    y_hat_i = 0\n",
    "    for review in test_x:\n",
    "        # if the prediction is > 0\n",
    "        if naive_bayes_predict(review, logprior, loglikelihood) :\n",
    "            # the predicted class is 1\n",
    "            y_hat_i = 1\n",
    "        else:\n",
    "            # otherwise the predicted class is 0\n",
    "            y_hat_i = 0\n",
    "\n",
    "        # append the predicted class to the list y_hats\n",
    "        y_hats.append(y_hat_i)\n",
    "\n",
    "    # error is the average of the absolute values of the differences between y_hats and test_y\n",
    "    error = 0\n",
    "    for i in range(len(test_y)):\n",
    "        error = abs(testy[i]-y_hats[i]) + error\n",
    "    \n",
    "    accuracy = (1-(error/len(test_y)))*100\n",
    " \n",
    "\n",
    "\n",
    "    return accuracy"
   ]
  },
  {
   "cell_type": "code",
   "execution_count": 150,
   "id": "dc1d9fbd",
   "metadata": {},
   "outputs": [],
   "source": [
    "def get_predictions(X, logprior, loglikelihood):\n",
    "    \"\"\"\n",
    "    Input:\n",
    "        X: A list of reviews\n",
    "        logprior: the logprior\n",
    "        loglikelihood: a dictionary with the loglikelihoods for each word\n",
    "    Output:\n",
    "        y_hats: Predictions made by the Naive Baye's model\n",
    "    \"\"\"\n",
    "    y_hats = []\n",
    "    for review in X:\n",
    "        # if the prediction is > 0\n",
    "        if naive_bayes_predict(review, logprior, loglikelihood) > 0:\n",
    "            # the predicted class is 1\n",
    "            y_hat_i = 1\n",
    "        else:\n",
    "            # otherwise the predicted class is 0\n",
    "            y_hat_i = 0\n",
    "\n",
    "        # append the predicted class to the list y_hats\n",
    "        y_hats.append(y_hat_i)\n",
    "    return y_hats"
   ]
  },
  {
   "cell_type": "code",
   "execution_count": 26,
   "id": "8a9c5d9d",
   "metadata": {
    "id": "8a9c5d9d"
   },
   "outputs": [
    {
     "name": "stdout",
     "output_type": "stream",
     "text": [
      "If you like original gut wrenching laughter you will like this movie. If you are young or old then y -> 0.00\n",
      "What a waste of talent. A very poor, semi-coherent, script cripples this film. Rather unimaginative  -> 1.00\n",
      "I have seen this film at least 100 times and I am still excited by it, the acting is perfect and the -> 0.00\n",
      "Cheap, amateurish, unimaginative, exploitative... but don't think it'll have redeeming amusement val -> 1.00\n"
     ]
    }
   ],
   "source": [
    "# For grading purpose only\n",
    "# You do not have to input any code in this cell, but it is relevant to grading, so please do not change anything\n",
    "\n",
    "# Run this cell to test your function\n",
    "\n",
    "for review in [\"If you like original gut wrenching laughter you will like this movie. If you are young or old then you will love this movie, hell even my mom liked it.<br /><br />Great Camp!!!\",\n",
    "                \"What a waste of talent. A very poor, semi-coherent, script cripples this film. Rather unimaginative direction, too. Some VERY faint echoes of Fargo here, but it just doesn't come off.\",\n",
    "                \"I have seen this film at least 100 times and I am still excited by it, the acting is perfect and the romance between Joe and Jean keeps me on the edge of my seat, plus I still think Bryan Brown is the tops. Brilliant Film.\",\n",
    "                \"Cheap, amateurish, unimaginative, exploitative... but don't think it'll have redeeming amusement value. About as unentertaining, uninstructive and just plain dull as a film can be.\"]:\n",
    "    p = naive_bayes_predict(review, logprior, loglikelihood)\n",
    "    print(f'{review[:100]} -> {p:.2f}')\n",
    "    "
   ]
  },
  {
   "cell_type": "markdown",
   "id": "43e2ef98",
   "metadata": {
    "id": "43e2ef98"
   },
   "source": [
    "### Expected Output :\n",
    "\n",
    "If you like original gut wrenching laughter you will like this movie. If you are young or old then y -> 0.00 <br>\n",
    "What a waste of talent. A very poor, semi-coherent, script cripples this film. Rather unimaginative  -> 1.00<br>\n",
    "I have seen this film at least 100 times and I am still excited by it, the acting is perfect and the -> 0.00 <br>\n",
    "Cheap, amateurish, unimaginative, exploitative... but don't think it'll have redeeming amusement val -> 1.00\n",
    "\n"
   ]
  },
  {
   "cell_type": "code",
   "execution_count": 165,
   "id": "216fa97a",
   "metadata": {
    "colab": {
     "base_uri": "https://localhost:8080/"
    },
    "id": "216fa97a",
    "outputId": "9d1f21c7-b324-43c2-e841-269c0306cbb4"
   },
   "outputs": [
    {
     "data": {
      "text/plain": [
       "0"
      ]
     },
     "execution_count": 165,
     "metadata": {},
     "output_type": "execute_result"
    }
   ],
   "source": [
    "# Feel free to check the sentiment of your own review below\n",
    "my_review = 'The movie was very beautiful, I wanted to see it again'\n",
    "naive_bayes_predict(my_review, logprior, loglikelihood)"
   ]
  },
  {
   "cell_type": "code",
   "execution_count": 162,
   "id": "74ea1882",
   "metadata": {},
   "outputs": [],
   "source": [
    "import numpy as np\n",
    "from sklearn.model_selection import train_test_split\n",
    " # Replace 'your_model' with the specific model you're using\n",
    "from sklearn.metrics import confusion_matrix\n"
   ]
  },
  {
   "cell_type": "code",
   "execution_count": 38,
   "id": "d55676ea",
   "metadata": {},
   "outputs": [],
   "source": [
    "df_new=df_upsampled.copy()"
   ]
  },
  {
   "cell_type": "markdown",
   "id": "8a45e4f0",
   "metadata": {
    "id": "8a45e4f0"
   },
   "source": [
    "### Expected Output :\n",
    "1"
   ]
  },
  {
   "cell_type": "markdown",
   "id": "mAIkM4aCC1H7",
   "metadata": {
    "id": "mAIkM4aCC1H7"
   },
   "source": [
    "# Q7. Evaluate the accuracy (10 Points)\n",
    "1. Split your data into training and test sets using random selection. Set the seed as parameter of the function so that user can select a different training and test set by changin seed.\n",
    "\n",
    "2. Calculate model paramters with training set.\n",
    "\n",
    "3. Print confusion matrix for training and test set.\n",
    "\n",
    "4. Examine False Positive and False Negative cases and provide reasoning why they get misclassified."
   ]
  },
  {
   "cell_type": "code",
   "execution_count": 145,
   "id": "98206037",
   "metadata": {},
   "outputs": [],
   "source": [
    "#1. Split your data into training and test sets using random selection. \n",
    "#Set the seed as parameter of the function so that user can select a different training and test set by changin seed.\n",
    "from sklearn.model_selection import train_test_split\n",
    "def get_train_test(data, labels, seed):\n",
    "  X_train, X_test, y_train, y_test = train_test_split(data, labels, test_size=0.2, random_state=seed)\n",
    "  return X_train, X_test, y_train, y_test\n",
    "\n",
    "train_x, test_x, train_y, test_y = get_train_test(df_upsampled['review'], df_upsampled['sentiment'], 1)"
   ]
  },
  {
   "cell_type": "code",
   "execution_count": 146,
   "id": "a352ce4e",
   "metadata": {},
   "outputs": [],
   "source": [
    "#2. Calculate model paramters with training set.\n",
    "train_y = train_y.map(output_map)\n",
    "test_y = test_y.map(output_map)\n",
    "\n",
    "frequency = review_counter({}, train_x, train_y)\n",
    "log_prior, log_likelihood = train_naive_bayes(frequency, train_x, train_y)"
   ]
  },
  {
   "cell_type": "code",
   "execution_count": 155,
   "id": "385e3064",
   "metadata": {},
   "outputs": [],
   "source": [
    "#3. Print confusion matrix for training and test set.\n",
    "from sklearn.metrics import confusion_matrix\n",
    "import seaborn as sns\n",
    "y_pred_train = get_predictions(train_x, log_prior, log_likelihood)\n",
    "y_pred_test = get_predictions(test_x, log_prior, log_likelihood)\n",
    "train_cf = confusion_matrix(train_y, y_pred_train)\n",
    "test_cf = confusion_matrix(test_y, y_pred_test)"
   ]
  },
  {
   "cell_type": "code",
   "execution_count": 156,
   "id": "a70f043a",
   "metadata": {},
   "outputs": [
    {
     "name": "stdout",
     "output_type": "stream",
     "text": [
      "Train: \n",
      " Axes(0.125,0.11;0.62x0.77)\n"
     ]
    },
    {
     "data": {
      "image/png": "[encoded data removed]",
      "text/plain": [
       "<Figure size 640x480 with 2 Axes>"
      ]
     },
     "metadata": {},
     "output_type": "display_data"
    }
   ],
   "source": [
    "print(\"Train: \\n\", sns.heatmap(train_cf, annot = True, fmt = 'g', cmap='Blues'))"
   ]
  },
  {
   "cell_type": "code",
   "execution_count": 157,
   "id": "41e4aa95",
   "metadata": {},
   "outputs": [
    {
     "name": "stdout",
     "output_type": "stream",
     "text": [
      "Test: \n",
      " Axes(0.125,0.11;0.62x0.77)\n"
     ]
    },
    {
     "data": {
      "image/png": "[encoded data removed]",
      "text/plain": [
       "<Figure size 640x480 with 2 Axes>"
      ]
     },
     "metadata": {},
     "output_type": "display_data"
    }
   ],
   "source": [
    "print(\"Test: \\n\", sns.heatmap(test_cf, annot = True, fmt = 'g', cmap='Blues'))"
   ]
  },
  {
   "cell_type": "markdown",
   "id": "XbzttYVnBo7W",
   "metadata": {
    "id": "XbzttYVnBo7W"
   },
   "source": [
    "# Q8. Modularize your classifier (10 points)\n",
    "1. Convert your code into a python module text_classifier.py\n",
    "\n",
    "2. The user should be able to launch the application on command prompt using python test_classifier.py command. The module will automatically load the model paramters from a local file of your choice and be ready to take the input from user on command prompt. The program will preprocess user input, tokenize and predict the class.\n",
    "\n",
    "3. Your module will take the input from user and output sentiment class in an indefinite loop. The output should printout the probabilities for each input token along with the final classification decision. Program will quit if user enters X.\n"
   ]
  },
  {
   "cell_type": "code",
   "execution_count": 158,
   "id": "44c0cc09",
   "metadata": {},
   "outputs": [],
   "source": [
    "vocab = []\n",
    "for (x,y) in freqs.keys():\n",
    "    if x not in vocab:\n",
    "        vocab.append(x)\n",
    "V = len(vocab)"
   ]
  },
  {
   "cell_type": "code",
   "execution_count": 159,
   "id": "lKAQrnnbBnKe",
   "metadata": {
    "id": "lKAQrnnbBnKe"
   },
   "outputs": [],
   "source": [
    "#Write the parameters into parameters.txt file\n",
    "with open('parameters.txt', 'w') as f:\n",
    "  f.write(str(logprior) + '\\n')\n",
    "  f.write(str(loglikelihood) + '\\n')\n",
    "  f.write(str(freqs) + '\\n')\n",
    "  f.write(str(list(y_train)) + '\\n')\n",
    "  f.write(str(V))"
   ]
  },
  {
   "cell_type": "markdown",
   "id": "82e6e4d1",
   "metadata": {
    "id": "82e6e4d1"
   },
   "source": [
    "# Q9. Theory Questions: (10 points)\n",
    "\n",
    "1. Why is Laplace Smoothing or Additive Smoothing required while executing Naive Bayes operations, especially for text classification? Show how not having additive smoothing leads to bad outcomes by using an example of training and the test set. (10 points)\n",
    "\n",
    "\n",
    "2. Why are logarithmic values computed instead of only probability values in the Naive Bayes algorithm? (5 points)"
   ]
  },
  {
   "cell_type": "markdown",
   "id": "8733d463",
   "metadata": {},
   "source": [
    "1.\n",
    "Laplace Smoothing, also known as Additive Smoothing or Lidstone Smoothing, is crucial in Naive Bayes operations, especially for text classification. It is required to address the problem of zero probabilities that can occur when certain features (words in the case of text classification) are absent in either the training or test data. Let's explore why Laplace Smoothing is necessary and illustrate its importance with an example:\n",
    "\n",
    "**Why Laplace Smoothing is Necessary:**\n",
    "\n",
    "1. **Zero Probability Issue:** In Naive Bayes, we calculate conditional probabilities of features (words) given a class. When a feature does not occur in the training data of a particular class, its conditional probability becomes zero. This zero probability can have a significant impact when predicting the class of a test instance.\n",
    "\n",
    "2. **Loss of Information:** If we encounter a word in the test data that was not present in the training data, the absence of smoothing would result in assigning zero probability to the entire class. This is problematic because it effectively ignores the evidence provided by other words present in the document, which can lead to incorrect classifications.\n",
    "\n",
    "**Example Illustrating the Importance of Laplace Smoothing:**\n",
    "\n",
    "Suppose we are building a binary spam email classifier with a simplified vocabulary consisting of only three words: \"free,\" \"buy,\" and \"discount.\" We have a training dataset with the following spam and non-spam emails:\n",
    "\n",
    "**Training Data:**\n",
    "\n",
    "Spam Email 1: \"Free offer! Buy now!\"\n",
    "Spam Email 2: \"Discounts on everything!\"\n",
    "Non-Spam Email 1: \"Meeting today.\"\n",
    "\n",
    "Now, let's consider a test email:\n",
    "\n",
    "**Test Data:**\n",
    "\n",
    "Test Email: \"Buy one get one free today.\"\n",
    "\n",
    "Without Laplace Smoothing, the conditional probabilities for the words in the test email would be calculated as follows:\n",
    "\n",
    "- P(\"Buy\" | Spam) = 2/2 = 1.0 (occurs in all spam emails)\n",
    "- P(\"One\" | Spam) = 0/2 = 0.0 (never occurs in spam emails)\n",
    "- P(\"Free\" | Spam) = 1/2 = 0.5 (occurs in one spam email)\n",
    "- P(\"Today\" | Spam) = 0/2 = 0.0 (never occurs in spam emails)\n",
    "\n",
    "The overall probability of the test email being spam is calculated as the product of these probabilities:\n",
    "\n",
    "P(Spam | Test Email) = P(\"Buy\" | Spam) * P(\"One\" | Spam) * P(\"Free\" | Spam) * P(\"Today\" | Spam) = 1.0 * 0.0 * 0.5 * 0.0 = 0.0\n",
    "\n",
    "Without Laplace Smoothing, the classifier assigns a probability of 0.0 to the spam class, indicating that it will classify the test email as non-spam, which is incorrect.\n",
    "\n",
    "By contrast, with Laplace Smoothing, even for words not seen in the training data, there would be a small non-zero probability assigned, preventing the issue of zero probabilities and leading to more reasonable and accurate classifications. Laplace Smoothing ensures that the model does not discard valuable information when encountering previously unseen features in text classification tasks."
   ]
  },
  {
   "cell_type": "markdown",
   "id": "29113803",
   "metadata": {},
   "source": [
    "2.\n",
    "Logarithmic values are computed in the Naive Bayes algorithm for several important reasons:\n",
    "\n",
    "1. **Numerical Stability:**\n",
    "   - When calculating conditional probabilities in Naive Bayes, especially with text data, the probabilities of individual features (words) can become very small, approaching zero.\n",
    "   - Multiplying many small probabilities together can lead to numerical instability due to floating-point precision limitations. The result may be rounded to zero (underflow) or lose significant digits, leading to inaccurate calculations.\n",
    "\n",
    "2. **Avoiding Underflow:**\n",
    "   - Taking the logarithm of probabilities simplifies the multiplication of probabilities into addition. In other words, instead of multiplying probabilities, we add their logarithmic values. This reduces the risk of underflow.\n",
    "   - Logarithms compress a wide range of values into a more manageable range, making it easier to work with very small or very large probabilities.\n",
    "\n",
    "3. **Computation Efficiency:**\n",
    "   - Calculating probabilities by addition (using logarithms) is computationally more efficient than performing numerous multiplications, especially when dealing with large datasets or high-dimensional feature spaces.\n",
    "   - Logarithmic values require fewer computational resources and are faster to compute.\n",
    "\n",
    "4. **Numerical Precision:**\n",
    "   - Storing very small probabilities in floating-point representation can lead to precision issues, as floating-point numbers have limited precision. This can result in a loss of accuracy in the calculations.\n",
    "   - Logarithmic values help maintain numerical precision by reducing the range of possible values.\n",
    "\n",
    "5. **Ease of Interpretation:**\n",
    "   - Logarithmic values are easier to interpret in terms of their magnitudes. A negative log value indicates a very small probability, while a positive log value represents a larger probability.\n",
    "   - Log-likelihood ratios (differences between log probabilities) are commonly used for feature selection and model interpretation in Naive Bayes.\n"
   ]
  },
  {
   "cell_type": "code",
   "execution_count": null,
   "id": "df04d9dd",
   "metadata": {},
   "outputs": [],
   "source": []
  }
 ],
 "metadata": {
  "colab": {
   "collapsed_sections": [],
   "name": "CS6120_NLP_Assignment_1_Notebook.ipynb",
   "provenance": [],
   "toc_visible": true
  },
  "kernelspec": {
   "display_name": "Python 3 (ipykernel)",
   "language": "python",
   "name": "python3"
  },
  "language_info": {
   "codemirror_mode": {
    "name": "ipython",
    "version": 3
   },
   "file_extension": ".py",
   "mimetype": "text/x-python",
   "name": "python",
   "nbconvert_exporter": "python",
   "pygments_lexer": "ipython3",
   "version": "3.10.9"
  }
 },
 "nbformat": 4,
 "nbformat_minor": 5
}
